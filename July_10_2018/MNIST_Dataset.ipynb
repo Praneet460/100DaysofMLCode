{
 "cells": [
  {
   "cell_type": "markdown",
   "metadata": {},
   "source": [
    "## Advanced MLP"
   ]
  },
  {
   "cell_type": "markdown",
   "metadata": {},
   "source": [
    "Using advanced techniques for training neural network:\n",
    "* Weight Initialization\n",
    "* Nonlinearity (Activation Function)\n",
    "* Optimizers\n",
    "* Batch Normalization\n",
    "* Dropout (Regularization)\n",
    "* Model Ensemble"
   ]
  },
  {
   "cell_type": "markdown",
   "metadata": {},
   "source": [
    "#### Import Necessary Packages"
   ]
  },
  {
   "cell_type": "code",
   "execution_count": 89,
   "metadata": {},
   "outputs": [],
   "source": [
    "import matplotlib.pyplot as plt\n",
    "\n",
    "from sklearn.model_selection import train_test_split\n",
    "from keras.datasets import mnist\n",
    "from keras.models import Sequential\n",
    "from keras.utils.np_utils import to_categorical"
   ]
  },
  {
   "cell_type": "markdown",
   "metadata": {},
   "source": [
    "#### Load the Dataset"
   ]
  },
  {
   "cell_type": "code",
   "execution_count": 90,
   "metadata": {
    "collapsed": true
   },
   "outputs": [],
   "source": [
    "# MNIST database of handwritten digits\n",
    "# into training and testing dataset\n",
    "(X_train, y_train), (X_test, y_test) = mnist.load_data()"
   ]
  },
  {
   "cell_type": "code",
   "execution_count": 3,
   "metadata": {},
   "outputs": [
    {
     "data": {
      "image/png": "[encoded data removed]",
      "text/plain": [
       "<matplotlib.figure.Figure at 0x131123a5668>"
      ]
     },
     "metadata": {},
     "output_type": "display_data"
    },
    {
     "name": "stdout",
     "output_type": "stream",
     "text": [
      "Label:  5\n"
     ]
    }
   ],
   "source": [
    "# show first number in the dataset\n",
    "plt.imshow(X_train[0])\n",
    "plt.show()\n",
    "print('Label: ', y_train[0])"
   ]
  },
  {
   "cell_type": "code",
   "execution_count": 4,
   "metadata": {},
   "outputs": [
    {
     "data": {
      "image/png": "[encoded data removed]",
      "text/plain": [
       "<matplotlib.figure.Figure at 0x1311d4222b0>"
      ]
     },
     "metadata": {},
     "output_type": "display_data"
    },
    {
     "name": "stdout",
     "output_type": "stream",
     "text": [
      "Label:  0\n"
     ]
    }
   ],
   "source": [
    "# show tenth number in the dataset\n",
    "plt.imshow(X_test[10])\n",
    "plt.show()\n",
    "print('Label: ',y_test[10])"
   ]
  },
  {
   "cell_type": "code",
   "execution_count": 91,
   "metadata": {
    "collapsed": true
   },
   "outputs": [],
   "source": [
    "# reshaping X data (features): (n, 28, 28) => (n, 784)\n",
    "# Input image is a colorful image, 3 channel(RGB),\n",
    "# while the network expects a gray image, one channel\n",
    "X_train = X_train.reshape((X_train.shape[0], -1))\n",
    "X_test = X_test.reshape((X_test.shape[0], -1))"
   ]
  },
  {
   "cell_type": "code",
   "execution_count": 92,
   "metadata": {
    "collapsed": true
   },
   "outputs": [],
   "source": [
    "# spliting the dataset \n",
    "# using 33% of the training data to expedite the training process\n",
    "X_train, _ , y_train, _ = train_test_split(X_train, y_train, test_size = 0.67, random_state = 7)"
   ]
  },
  {
   "cell_type": "code",
   "execution_count": 93,
   "metadata": {
    "collapsed": true
   },
   "outputs": [],
   "source": [
    "# converting y data into categorical (one-hot encoding)\n",
    "y_train = to_categorical(y_train)\n",
    "y_test = to_categorical(y_test)"
   ]
  },
  {
   "cell_type": "code",
   "execution_count": 94,
   "metadata": {},
   "outputs": [
    {
     "name": "stdout",
     "output_type": "stream",
     "text": [
      "X_train:  (19800, 784)\n",
      "X_test:  (10000, 784)\n",
      "y_train:  (19800, 10)\n",
      "y_test:  (10000, 10)\n"
     ]
    }
   ],
   "source": [
    "# looking at our reformed dataset\n",
    "print('X_train: ',X_train.shape)\n",
    "print('X_test: ',X_test.shape)\n",
    "print('y_train: ',y_train.shape)\n",
    "print('y_test: ',y_test.shape)"
   ]
  },
  {
   "cell_type": "markdown",
   "metadata": {},
   "source": [
    "#### Create basic MLP Model"
   ]
  },
  {
   "cell_type": "code",
   "execution_count": 9,
   "metadata": {
    "collapsed": true
   },
   "outputs": [],
   "source": [
    "# Import packages\n",
    "from keras.models import Sequential\n",
    "from keras.layers import Activation, Dense\n",
    "from keras import optimizers"
   ]
  },
  {
   "cell_type": "code",
   "execution_count": 10,
   "metadata": {
    "collapsed": true
   },
   "outputs": [],
   "source": [
    "# create model\n",
    "model = Sequential()"
   ]
  },
  {
   "cell_type": "code",
   "execution_count": 11,
   "metadata": {
    "collapsed": true
   },
   "outputs": [],
   "source": [
    "# add layers\n",
    "model.add(Dense(50, input_shape= (784,), activation = 'sigmoid'))\n",
    "model.add(Dense(50, activation = 'sigmoid'))\n",
    "model.add(Dense(50, activation = 'sigmoid'))\n",
    "model.add(Dense(50, activation = 'sigmoid'))\n",
    "model.add(Dense(10, activation = 'softmax'))"
   ]
  },
  {
   "cell_type": "code",
   "execution_count": 12,
   "metadata": {
    "collapsed": true
   },
   "outputs": [],
   "source": [
    "# model compiling\n",
    "sgd = optimizers.SGD(lr = 0.001) # stochastic gradient descent optimizer\n",
    "model.compile(optimizer = sgd, loss = 'categorical_crossentropy', metrics = ['accuracy'])"
   ]
  },
  {
   "cell_type": "code",
   "execution_count": 14,
   "metadata": {},
   "outputs": [
    {
     "name": "stdout",
     "output_type": "stream",
     "text": [
      "_________________________________________________________________\n",
      "Layer (type)                 Output Shape              Param #   \n",
      "=================================================================\n",
      "dense_1 (Dense)              (None, 50)                39250     \n",
      "_________________________________________________________________\n",
      "dense_2 (Dense)              (None, 50)                2550      \n",
      "_________________________________________________________________\n",
      "dense_3 (Dense)              (None, 50)                2550      \n",
      "_________________________________________________________________\n",
      "dense_4 (Dense)              (None, 50)                2550      \n",
      "_________________________________________________________________\n",
      "dense_5 (Dense)              (None, 10)                510       \n",
      "=================================================================\n",
      "Total params: 47,410\n",
      "Trainable params: 47,410\n",
      "Non-trainable params: 0\n",
      "_________________________________________________________________\n"
     ]
    }
   ],
   "source": [
    "# summry of model\n",
    "model.summary()"
   ]
  },
  {
   "cell_type": "markdown",
   "metadata": {},
   "source": [
    "##### Conclusion:\n",
    "1. for ```dense_1``` layer: no. of param(39250) = no. of input values(784) * neurons in first layer(50) + bias value(50)\n",
    "2. for ```dense_2``` layer: no. of param(2550) = no. of input values(50) * neurons in second layer(50) + bias value(50)\n",
    "3. for ```dense_3``` layer: no. of param(2550) = no. of input values(50) * neurons in third layer(50) + bias value(50)\n",
    "4. for ```dense_4``` layer: no. of param(2550) = no. of input values(50) * neurons in fourth layer(50) + bias value(50)\n",
    "5. for ```dense_5``` layer: no. of param(510) = no. of input values(50) * neurons in last layer(10) + bias value(10)"
   ]
  },
  {
   "cell_type": "markdown",
   "metadata": {},
   "source": [
    "##### Training Model\n",
    "##### one epoch = \n",
    "one forward pass and one backward pass of all the training examples\n",
    "##### batch size = \n",
    "the number of training examples in one forward/backward pass. The hgher the batch size the more memory space you'll need\n",
    "##### Example: \n",
    "If you have 1000 training examples, and your batch size is 500, then it takes 2 iterations to complete 1 epoch."
   ]
  },
  {
   "cell_type": "code",
   "execution_count": 18,
   "metadata": {
    "collapsed": true
   },
   "outputs": [],
   "source": [
    "# Train the model\n",
    "history = model.fit(X_train, y_train, batch_size = 256, validation_split = 0.3, epochs = 100, verbose = 0)"
   ]
  },
  {
   "cell_type": "code",
   "execution_count": 19,
   "metadata": {},
   "outputs": [
    {
     "name": "stdout",
     "output_type": "stream",
     "text": [
      "10000/10000 [==============================] - 1s 55us/step\n"
     ]
    }
   ],
   "source": [
    "results = model.evaluate(X_test, y_test)"
   ]
  },
  {
   "cell_type": "code",
   "execution_count": 20,
   "metadata": {},
   "outputs": [
    {
     "name": "stdout",
     "output_type": "stream",
     "text": [
      "Test accuracy:  0.1135\n"
     ]
    }
   ],
   "source": [
    "print('Test accuracy: ', results[1])"
   ]
  },
  {
   "cell_type": "markdown",
   "metadata": {
    "collapsed": true
   },
   "source": [
    "##### Conclusion:\n",
    "1. Parameters Used: <b>```Sigmoid```</b> activation function at input layers and <b>```Softmax```</b> activation function at output layers.\n",
    "2. Accuracy on Testing Dataset is <b>```11.35%```</b>."
   ]
  },
  {
   "cell_type": "markdown",
   "metadata": {},
   "source": [
    "#### 1. Weight Initialization\n",
    "* Changing weight initialization scheme can significantly improve training of the model by preventing vanishing gradient problem up to some degree\n",
    "* Initializations define the way to set the initial random weights of keras layers.\n",
    "* He normal initializer draws samples from a truncated normal distribution centered on 0 with ```stddev = sqrt(2 / fan_in)``` where ```fan_in``` is the number of input units in the weight tensor."
   ]
  },
  {
   "cell_type": "code",
   "execution_count": 24,
   "metadata": {
    "collapsed": true
   },
   "outputs": [],
   "source": [
    "# create a function to generate (return) models\n",
    "\n",
    "def mlp_model():\n",
    "    model = Sequential()\n",
    "    model.add(Dense(50, input_shape = (784, ), kernel_initializer = 'he_normal', activation= 'sigmoid'))\n",
    "    model.add(Dense(50, kernel_initializer= 'he_normal', activation= 'sigmoid'))\n",
    "    model.add(Dense(50, kernel_initializer= 'he_normal', activation= 'sigmoid'))\n",
    "    model.add(Dense(50, kernel_initializer= 'he_normal', activation= 'sigmoid'))\n",
    "    model.add(Dense(10, kernel_initializer= 'he_normal', activation= 'softmax'))\n",
    "    \n",
    "    sgd = optimizers.SGD(lr = 0.001)\n",
    "    model.compile(optimizer= sgd, loss= 'categorical_crossentropy', metrics= ['accuracy'])\n",
    "    \n",
    "    return model"
   ]
  },
  {
   "cell_type": "code",
   "execution_count": 25,
   "metadata": {},
   "outputs": [
    {
     "name": "stdout",
     "output_type": "stream",
     "text": [
      "_________________________________________________________________\n",
      "Layer (type)                 Output Shape              Param #   \n",
      "=================================================================\n",
      "dense_11 (Dense)             (None, 50)                39250     \n",
      "_________________________________________________________________\n",
      "dense_12 (Dense)             (None, 50)                2550      \n",
      "_________________________________________________________________\n",
      "dense_13 (Dense)             (None, 50)                2550      \n",
      "_________________________________________________________________\n",
      "dense_14 (Dense)             (None, 50)                2550      \n",
      "_________________________________________________________________\n",
      "dense_15 (Dense)             (None, 10)                510       \n",
      "=================================================================\n",
      "Total params: 47,410\n",
      "Trainable params: 47,410\n",
      "Non-trainable params: 0\n",
      "_________________________________________________________________\n"
     ]
    }
   ],
   "source": [
    "model = mlp_model()\n",
    "model.summary()"
   ]
  },
  {
   "cell_type": "markdown",
   "metadata": {},
   "source": [
    "##### Verbose can be 0, 1 or 2\n",
    "1. verbose= 0: will show you nothing\n",
    "2. verbose= 1: will show you animated progress bar \n",
    "3. verbose= 2: will just mention the number of epochs"
   ]
  },
  {
   "cell_type": "code",
   "execution_count": 28,
   "metadata": {},
   "outputs": [
    {
     "data": {
      "text/plain": [
       "<keras.callbacks.History at 0x13119ce4b00>"
      ]
     },
     "execution_count": 28,
     "metadata": {},
     "output_type": "execute_result"
    }
   ],
   "source": [
    "model.fit(X_train, y_train, validation_split= 0.3, epochs= 100, verbose= 0)"
   ]
  },
  {
   "cell_type": "code",
   "execution_count": 29,
   "metadata": {},
   "outputs": [
    {
     "name": "stdout",
     "output_type": "stream",
     "text": [
      "10000/10000 [==============================] - 0s 46us/step\n"
     ]
    }
   ],
   "source": [
    "results = model.evaluate(X_test, y_test)"
   ]
  },
  {
   "cell_type": "code",
   "execution_count": 30,
   "metadata": {},
   "outputs": [
    {
     "name": "stdout",
     "output_type": "stream",
     "text": [
      "Test accuracy:  0.7552\n"
     ]
    }
   ],
   "source": [
    "print('Test accuracy: ', results[1])"
   ]
  },
  {
   "cell_type": "markdown",
   "metadata": {},
   "source": [
    "##### Conclusion:\n",
    "1. Parameters Used: <b>```Sigmoid```</b> activation function at input layers, <b>```Softmax```</b> activation function at output layer, and <b>```he_normal```</b> as the kernel initializer.\n",
    "2. Accuracy on testing dataset is <b>```75.52%```</b>."
   ]
  },
  {
   "cell_type": "markdown",
   "metadata": {},
   "source": [
    "#### 2. Nonlinearity(Activation function)\n",
    "* Sigmoid functions suffer from gradient vanishing problem, making training slower.\n",
    "* Choices apart from sigmoid and tanh are:\n",
    "  * <b>```relu```</b>(rectified linear unit)\n",
    "  * <b>```selu```</b>(scaled exponential linear unit)"
   ]
  },
  {
   "cell_type": "code",
   "execution_count": 33,
   "metadata": {
    "collapsed": true
   },
   "outputs": [],
   "source": [
    "# create a function to generate (return) model\n",
    "def mlp_nonlinear_model():\n",
    "    model = Sequential()\n",
    "    # adding layers\n",
    "    model.add(Dense(50, input_shape= (784, ), activation= 'relu'))\n",
    "    model.add(Dense(50, activation= 'relu'))\n",
    "    model.add(Dense(50, activation= 'relu'))\n",
    "    model.add(Dense(50, activation= 'relu'))\n",
    "    model.add(Dense(10, activation= 'softmax'))\n",
    "    \n",
    "    sgd = optimizers.SGD(lr= 0.001)\n",
    "    model.compile(optimizer = sgd, loss = 'categorical_crossentropy', metrics= ['accuracy'])\n",
    "    \n",
    "    return model"
   ]
  },
  {
   "cell_type": "code",
   "execution_count": 34,
   "metadata": {},
   "outputs": [
    {
     "data": {
      "text/plain": [
       "<keras.callbacks.History at 0x13119deb828>"
      ]
     },
     "execution_count": 34,
     "metadata": {},
     "output_type": "execute_result"
    }
   ],
   "source": [
    "model = mlp_nonlinear_model()\n",
    "model.fit(X_train, y_train, validation_split= 0.3, epochs= 100, verbose= 0)"
   ]
  },
  {
   "cell_type": "code",
   "execution_count": 35,
   "metadata": {},
   "outputs": [
    {
     "name": "stdout",
     "output_type": "stream",
     "text": [
      "10000/10000 [==============================] - 1s 55us/step\n"
     ]
    }
   ],
   "source": [
    "results = model.evaluate(X_test, y_test)"
   ]
  },
  {
   "cell_type": "code",
   "execution_count": 36,
   "metadata": {},
   "outputs": [
    {
     "name": "stdout",
     "output_type": "stream",
     "text": [
      "Test accuracy:  0.9288\n"
     ]
    }
   ],
   "source": [
    "print('Test accuracy: ', results[1])"
   ]
  },
  {
   "cell_type": "markdown",
   "metadata": {},
   "source": [
    "##### Conclusion:\n",
    "1. <b>```Parameters Used```</b>: <b>Relu</b> as activation function for input layers, and <b>Softmax</b> as activation function for output layer.\n",
    "2. Accuracy on testing dataset is <b>```92.88%```</b>."
   ]
  },
  {
   "cell_type": "markdown",
   "metadata": {},
   "source": [
    "#### 3. Optimizers (Adam:Adaptive Moment Estimation)"
   ]
  },
  {
   "cell_type": "code",
   "execution_count": 39,
   "metadata": {
    "collapsed": true
   },
   "outputs": [],
   "source": [
    "def mlp_adam_model():\n",
    "    model = Sequential()\n",
    "    \n",
    "    model.add(Dense(50, input_shape= (784, ), activation= 'sigmoid'))\n",
    "    model.add(Dense(50, activation= 'sigmoid'))\n",
    "    model.add(Dense(50, activation= 'sigmoid'))\n",
    "    model.add(Dense(50, activation= 'sigmoid'))\n",
    "    model.add(Dense(10, activation= 'softmax'))\n",
    "    \n",
    "    adam= optimizers.Adam(lr= 0.001)\n",
    "    model.compile(optimizer= adam, loss= 'categorical_crossentropy', metrics=['accuracy'])\n",
    "    \n",
    "    return model"
   ]
  },
  {
   "cell_type": "code",
   "execution_count": 41,
   "metadata": {},
   "outputs": [
    {
     "data": {
      "text/plain": [
       "<keras.callbacks.History at 0x1311a364e80>"
      ]
     },
     "execution_count": 41,
     "metadata": {},
     "output_type": "execute_result"
    }
   ],
   "source": [
    "model = mlp_adam_model()\n",
    "model.fit(X_train, y_train, validation_split= 0.3, epochs= 100, verbose=0)"
   ]
  },
  {
   "cell_type": "code",
   "execution_count": 42,
   "metadata": {},
   "outputs": [
    {
     "name": "stdout",
     "output_type": "stream",
     "text": [
      "10000/10000 [==============================] - 1s 66us/step\n"
     ]
    }
   ],
   "source": [
    "results = model.evaluate(X_test, y_test)"
   ]
  },
  {
   "cell_type": "code",
   "execution_count": 43,
   "metadata": {},
   "outputs": [
    {
     "name": "stdout",
     "output_type": "stream",
     "text": [
      "Test accuracy:  0.9259\n"
     ]
    }
   ],
   "source": [
    "print('Test accuracy: ', results[1])"
   ]
  },
  {
   "cell_type": "markdown",
   "metadata": {},
   "source": [
    "##### Conclusion:\n",
    "1. <b>Parameters Used</b>: <b>```Sigmoid```</b> activation for input layers, <b>```Softmax```</b> activation function for output layer, and <b>```Adam```</b> as an optimizer.\n",
    "2. Accuracy on testing datset is <b>```92.59%```</b>."
   ]
  },
  {
   "cell_type": "code",
   "execution_count": 49,
   "metadata": {
    "collapsed": true
   },
   "outputs": [],
   "source": [
    "## Using Adam as optimizer and Relu as activation function\n",
    "\n",
    "def mlp_adam_relu_model():\n",
    "    model = Sequential()\n",
    "    \n",
    "    model.add(Dense(50, input_shape= (784, ), activation= 'relu'))\n",
    "    model.add(Dense(50, activation='relu'))\n",
    "    model.add(Dense(50, activation='relu'))\n",
    "    model.add(Dense(50, activation='relu'))\n",
    "    model.add(Dense(10, activation='softmax'))\n",
    "    \n",
    "    adam = optimizers.Adam(lr= 0.001)\n",
    "    model.compile(optimizer = adam, loss='categorical_crossentropy',metrics=['accuracy'])\n",
    "    \n",
    "    return model"
   ]
  },
  {
   "cell_type": "code",
   "execution_count": 50,
   "metadata": {},
   "outputs": [
    {
     "data": {
      "text/plain": [
       "<keras.callbacks.History at 0x1311aab4908>"
      ]
     },
     "execution_count": 50,
     "metadata": {},
     "output_type": "execute_result"
    }
   ],
   "source": [
    "model = mlp_adam_relu_model()\n",
    "model.fit(X_train, y_train, validation_split= 0.3, epochs= 100, verbose= 0)"
   ]
  },
  {
   "cell_type": "code",
   "execution_count": 52,
   "metadata": {},
   "outputs": [
    {
     "name": "stdout",
     "output_type": "stream",
     "text": [
      "10000/10000 [==============================] - 1s 55us/step\n"
     ]
    }
   ],
   "source": [
    "results = model.evaluate(X_test, y_test)"
   ]
  },
  {
   "cell_type": "code",
   "execution_count": 53,
   "metadata": {},
   "outputs": [
    {
     "name": "stdout",
     "output_type": "stream",
     "text": [
      "Test_accuracy:  0.9385\n"
     ]
    }
   ],
   "source": [
    "print('Test_accuracy: ', results[1])"
   ]
  },
  {
   "cell_type": "markdown",
   "metadata": {},
   "source": [
    "##### Conclusion:\n",
    "1. <b>Parameters Used</b>: <b>```Relu```</b> as an activation function for input layers, <b>```Softmax```</b> as an activation function for output layer, and <b>```Adam```</b> as an optimizer.\n",
    "2. Accuracy on testing dataset is <b>```93.85%```</b>."
   ]
  },
  {
   "cell_type": "markdown",
   "metadata": {},
   "source": [
    "#### 4. Batch Normalization\n",
    "1. It is one of the method to prevent the \"internal covariance shift\" problem, has proven to be highly effective.\n",
    "2. Normalize each mini-batch before nonlinearity\n",
    "3. Batch Normalization layer is usually inserted after dense/convolution and before nonlinearity."
   ]
  },
  {
   "cell_type": "code",
   "execution_count": 54,
   "metadata": {
    "collapsed": true
   },
   "outputs": [],
   "source": [
    "from keras.layers import BatchNormalization"
   ]
  },
  {
   "cell_type": "code",
   "execution_count": 55,
   "metadata": {
    "collapsed": true
   },
   "outputs": [],
   "source": [
    "def mlp_batch_model():\n",
    "    model = Sequential()\n",
    "    \n",
    "    model.add(Dense(50, input_shape= (784, )))\n",
    "    model.add(BatchNormalization())\n",
    "    model.add(Activation('sigmoid'))\n",
    "    \n",
    "    model.add(Dense(50))\n",
    "    model.add(BatchNormalization())\n",
    "    model.add(Activation('sigmoid'))\n",
    "    \n",
    "    model.add(Dense(50))\n",
    "    model.add(BatchNormalization())\n",
    "    model.add(Activation('sigmoid'))\n",
    "    \n",
    "    model.add(Dense(50))\n",
    "    model.add(BatchNormalization())\n",
    "    model.add(Activation('sigmoid'))\n",
    "    \n",
    "    model.add(Dense(10))\n",
    "    model.add(Activation('softmax'))\n",
    "    \n",
    "    sdg = optimizers.SGD(lr = 0.001)\n",
    "    model.compile(optimizer= sgd, loss= 'categorical_crossentropy', metric=['accuracy'])\n",
    "    \n",
    "    return model"
   ]
  },
  {
   "cell_type": "code",
   "execution_count": 56,
   "metadata": {},
   "outputs": [
    {
     "data": {
      "text/plain": [
       "<keras.callbacks.History at 0x13120906c18>"
      ]
     },
     "execution_count": 56,
     "metadata": {},
     "output_type": "execute_result"
    }
   ],
   "source": [
    "model.fit(X_train, y_train, validation_split=0.3, epochs= 100, verbose= 0)"
   ]
  },
  {
   "cell_type": "code",
   "execution_count": 57,
   "metadata": {},
   "outputs": [
    {
     "name": "stdout",
     "output_type": "stream",
     "text": [
      "10000/10000 [==============================] - 1s 62us/step\n"
     ]
    }
   ],
   "source": [
    "results= model.evaluate(X_test, y_test)"
   ]
  },
  {
   "cell_type": "code",
   "execution_count": 58,
   "metadata": {},
   "outputs": [
    {
     "name": "stdout",
     "output_type": "stream",
     "text": [
      "Test_accuracy:  0.9546\n"
     ]
    }
   ],
   "source": [
    "print('Test_accuracy: ', results[1])"
   ]
  },
  {
   "cell_type": "markdown",
   "metadata": {},
   "source": [
    "##### Conclusion:\n",
    "1. <b>Parameters Used</b>: <b>```Sigmoid```</b> as an activation function for input layers, and <b>```Softmax```</b> as an activation function for output layer, and using <b>```BatchNormalization```</b> after dense and before activation.\n",
    "2. Accuracy on testing dataset is <b>```95.46%```</b>."
   ]
  },
  {
   "cell_type": "code",
   "execution_count": 64,
   "metadata": {
    "collapsed": true
   },
   "outputs": [],
   "source": [
    "## Using BatchNormalization along with relu as an activation function\n",
    "\n",
    "def mlp_batch_relu_model():\n",
    "    model = Sequential()\n",
    "    \n",
    "    model.add(Dense(50, input_shape=(784, )))\n",
    "    model.add(BatchNormalization())\n",
    "    model.add(Activation('relu'))\n",
    "    \n",
    "    model.add(Dense(50))\n",
    "    model.add(BatchNormalization())\n",
    "    model.add(Activation('relu'))\n",
    "    \n",
    "    model.add(Dense(50))\n",
    "    model.add(BatchNormalization())\n",
    "    model.add(Activation('relu'))\n",
    "    \n",
    "    model.add(Dense(50))\n",
    "    model.add(BatchNormalization())\n",
    "    model.add(Activation('relu'))\n",
    "    \n",
    "    model.add(Dense(10))\n",
    "    model.add(Activation('softmax'))\n",
    "    \n",
    "    sgd = optimizers.SGD(lr= 0.01)\n",
    "    model.compile(optimizer= sgd, loss= 'categorical_crossentropy', metrics=['accuracy'])\n",
    "    \n",
    "    return model"
   ]
  },
  {
   "cell_type": "code",
   "execution_count": 65,
   "metadata": {},
   "outputs": [
    {
     "data": {
      "text/plain": [
       "<keras.callbacks.History at 0x131253f2320>"
      ]
     },
     "execution_count": 65,
     "metadata": {},
     "output_type": "execute_result"
    }
   ],
   "source": [
    "model = mlp_batch_relu_model()\n",
    "model.fit(X_train, y_train, validation_split= 0.3, epochs= 100, verbose= 0)"
   ]
  },
  {
   "cell_type": "code",
   "execution_count": 66,
   "metadata": {},
   "outputs": [
    {
     "name": "stdout",
     "output_type": "stream",
     "text": [
      "10000/10000 [==============================] - 1s 78us/step\n"
     ]
    }
   ],
   "source": [
    "results= model.evaluate(X_test, y_test)"
   ]
  },
  {
   "cell_type": "code",
   "execution_count": 67,
   "metadata": {},
   "outputs": [
    {
     "name": "stdout",
     "output_type": "stream",
     "text": [
      "Test_accurracy:  0.9471\n"
     ]
    }
   ],
   "source": [
    "print('Test_accurracy: ', results[1])"
   ]
  },
  {
   "cell_type": "markdown",
   "metadata": {},
   "source": [
    "##### Conclusion:\n",
    "1. <b>Parameters Used</b>: <b>```Relu```</b> as an activation function for input layers, and <b>```Softmax```</b> as an activation function for output layer, and using <b>```BatchNormalization```</b> after dense and before activation layer.\n",
    "2. Accuracy on testing dataset is <b>```94.71%```</b>."
   ]
  },
  {
   "cell_type": "markdown",
   "metadata": {},
   "source": [
    "#### 5. Dropout (Regularization)\n",
    "1. Dropout is one of the pwerful ways to prevent overfitting.\n",
    "2. The idea is to disconnecting some(randomly selected) neurons in each layer\n",
    "3. Dropout Rate is the probability of each neuron to be disconnected."
   ]
  },
  {
   "cell_type": "code",
   "execution_count": 68,
   "metadata": {
    "collapsed": true
   },
   "outputs": [],
   "source": [
    "from keras.layers import Dropout"
   ]
  },
  {
   "cell_type": "code",
   "execution_count": 69,
   "metadata": {
    "collapsed": true
   },
   "outputs": [],
   "source": [
    "def mlp_dropout_model():\n",
    "    model = Sequential()\n",
    "    \n",
    "    model.add(Dense(50, input_shape=(784, ), activation= 'sigmoid'))\n",
    "    model.add(Dropout(0.2))\n",
    "    \n",
    "    model.add(Dense(50, activation= 'sigmoid'))\n",
    "    model.add(Dropout(0.2))\n",
    "    \n",
    "    model.add(Dense(50, activation= 'sigmoid'))\n",
    "    model.add(Dropout(0.2))\n",
    "    \n",
    "    model.add(Dense(50, activation= 'sigmoid'))\n",
    "    model.add(Dropout(0.2))\n",
    "    \n",
    "    model.add(Dense(10, activation= 'softmax'))\n",
    "    \n",
    "    sdg = optimizers.SGD(lr= 0.001)\n",
    "    \n",
    "    model.compile(optimizer = sdg, loss= 'categorical_crossentropy', metrics=['accuracy'])\n",
    "    \n",
    "    return model"
   ]
  },
  {
   "cell_type": "code",
   "execution_count": 70,
   "metadata": {},
   "outputs": [
    {
     "data": {
      "text/plain": [
       "<keras.callbacks.History at 0x131230487f0>"
      ]
     },
     "execution_count": 70,
     "metadata": {},
     "output_type": "execute_result"
    }
   ],
   "source": [
    "model = mlp_dropout_model()\n",
    "model.fit(X_train, y_train, validation_split = 0.3, epochs= 100, verbose= 0)"
   ]
  },
  {
   "cell_type": "code",
   "execution_count": 71,
   "metadata": {},
   "outputs": [
    {
     "name": "stdout",
     "output_type": "stream",
     "text": [
      "10000/10000 [==============================] - 1s 71us/step\n"
     ]
    }
   ],
   "source": [
    "results= model.evaluate(X_test, y_test)"
   ]
  },
  {
   "cell_type": "code",
   "execution_count": 72,
   "metadata": {},
   "outputs": [
    {
     "name": "stdout",
     "output_type": "stream",
     "text": [
      "Test_accuracy:  0.1135\n"
     ]
    }
   ],
   "source": [
    "print('Test_accuracy: ', results[1])"
   ]
  },
  {
   "cell_type": "markdown",
   "metadata": {},
   "source": [
    "##### Conclusion:\n",
    "1. <b>Parameters Used</b>: <b>```Sigmoid```</b> as an activation function for input layers, and <b>```Softmax```</b> as an activation function for output layer, and using <b>```Dropout```</b> after activation layer.\n",
    "2. Accuracy on testing dataset is <b>```11.35%```</b>."
   ]
  },
  {
   "cell_type": "markdown",
   "metadata": {},
   "source": [
    "#### 6. Model Ensemble\n",
    "1. It is a reliable and promising way to boost performance of the model\n",
    "2. Usually create 8 to 10 independent networks and merge their results."
   ]
  },
  {
   "cell_type": "code",
   "execution_count": 86,
   "metadata": {
    "collapsed": true
   },
   "outputs": [],
   "source": [
    "import numpy as np\n",
    "\n",
    "from keras.wrappers.scikit_learn import KerasClassifier\n",
    "from sklearn.ensemble import VotingClassifier\n",
    "from sklearn.metrics import accuracy_score"
   ]
  },
  {
   "cell_type": "code",
   "execution_count": 95,
   "metadata": {},
   "outputs": [],
   "source": [
    "y_train = np.argmax(y_train, axis=1)\n",
    "y_test = np.argmax(y_test, axis=1)"
   ]
  },
  {
   "cell_type": "code",
   "execution_count": 96,
   "metadata": {
    "collapsed": true
   },
   "outputs": [],
   "source": [
    "def mlp_ensemble_model():\n",
    "    model= Sequential()\n",
    "    \n",
    "    model.add(Dense(50, input_shape=(784, ), activation= 'sigmoid'))\n",
    "    model.add(Dense(50, activation= 'sigmoid'))\n",
    "    model.add(Dense(50, activation= 'sigmoid'))\n",
    "    model.add(Dense(50, activation= 'sigmoid'))\n",
    "    model.add(Dense(10, activation= 'softmax'))\n",
    "    \n",
    "    sgd = optimizers.SGD(lr = 0.001)\n",
    "    model.compile(optimizer= sgd, loss= 'categorical_crossentropy', metrics=['accuracy'])\n",
    "    \n",
    "    return model"
   ]
  },
  {
   "cell_type": "code",
   "execution_count": 97,
   "metadata": {
    "collapsed": true
   },
   "outputs": [],
   "source": [
    "model1 = KerasClassifier(build_fn= mlp_ensemble_model, epochs= 100, verbose= 0)\n",
    "model2 = KerasClassifier(build_fn= mlp_ensemble_model, epochs= 100, verbose= 0)\n",
    "model3 = KerasClassifier(build_fn= mlp_ensemble_model, epochs= 100, verbose= 0)"
   ]
  },
  {
   "cell_type": "code",
   "execution_count": 98,
   "metadata": {
    "collapsed": true
   },
   "outputs": [],
   "source": [
    "ensemble_clf = VotingClassifier(estimators = [('model1', model1), ('model2', model2), ('model3', model3)], voting = 'soft')"
   ]
  },
  {
   "cell_type": "code",
   "execution_count": 99,
   "metadata": {},
   "outputs": [
    {
     "data": {
      "text/plain": [
       "VotingClassifier(estimators=[('model1', <keras.wrappers.scikit_learn.KerasClassifier object at 0x000001312DEB94E0>), ('model2', <keras.wrappers.scikit_learn.KerasClassifier object at 0x000001312DEB9550>), ('model3', <keras.wrappers.scikit_learn.KerasClassifier object at 0x000001312DEB95C0>)],\n",
       "         flatten_transform=None, n_jobs=1, voting='soft', weights=None)"
      ]
     },
     "execution_count": 99,
     "metadata": {},
     "output_type": "execute_result"
    }
   ],
   "source": [
    "ensemble_clf.fit(X_train, y_train)"
   ]
  },
  {
   "cell_type": "code",
   "execution_count": 100,
   "metadata": {},
   "outputs": [
    {
     "name": "stderr",
     "output_type": "stream",
     "text": [
      "C:\\Users\\Praneet\\Anaconda3\\lib\\site-packages\\sklearn\\preprocessing\\label.py:151: DeprecationWarning: The truth value of an empty array is ambiguous. Returning False, but in future this will result in an error. Use `array.size > 0` to check that an array is not empty.\n",
      "  if diff:\n"
     ]
    }
   ],
   "source": [
    "y_pred = ensemble_clf.predict(X_test)"
   ]
  },
  {
   "cell_type": "code",
   "execution_count": 101,
   "metadata": {},
   "outputs": [
    {
     "name": "stdout",
     "output_type": "stream",
     "text": [
      "Test accuracy:  0.2793\n"
     ]
    }
   ],
   "source": [
    "print('Test accuracy: ', accuracy_score(y_pred, y_test))"
   ]
  },
  {
   "cell_type": "markdown",
   "metadata": {},
   "source": [
    "##### Conclusion:\n",
    "1. <b>Parameters Used</b>: <b>```Sigmoid```</b> as an activation function for input layers, and <b>```Softmax```</b> as an activation function for output layer, and using <b>```Model Ensemble```</b>.\n",
    "2. Accuracy on testing dataset is <b>```27.93%```</b>."
   ]
  },
  {
   "cell_type": "markdown",
   "metadata": {},
   "source": [
    "## Summary\n",
    "\n",
    "| Model         | Testing Accuracy (%) | \n",
    "| ------------- |:----------------:    | \n",
    "| Basic Model   | 11.35                | \n",
    "| He Normal     | 75.52                | \n",
    "| Relu          | 92.88                | \n",
    "| Adam          | 92.59                | \n",
    "| Adam & Relu   | 93.85                | \n",
    "| Batchnorm     | 95.46                |\n",
    "| Batchnorm & Relu | 94.71                |\n",
    "| Dropout       | 11.35                |\n",
    "| Ensemble      | 27.93                |\n",
    "\n",
    "### Note : \n",
    "##### Most methods improve the model training & test performance. That's why we will use them all together."
   ]
  }
 ],
 "metadata": {
  "kernelspec": {
   "display_name": "Python 3",
   "language": "python",
   "name": "python3"
  },
  "language_info": {
   "codemirror_mode": {
    "name": "ipython",
    "version": 3
   },
   "file_extension": ".py",
   "mimetype": "text/x-python",
   "name": "python",
   "nbconvert_exporter": "python",
   "pygments_lexer": "ipython3",
   "version": "3.6.3"
  }
 },
 "nbformat": 4,
 "nbformat_minor": 2
}
