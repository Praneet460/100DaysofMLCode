{
 "cells": [
  {
   "cell_type": "markdown",
   "metadata": {},
   "source": [
    "## NLP Notebook (Twitter dataset )"
   ]
  },
  {
   "cell_type": "markdown",
   "metadata": {},
   "source": [
    "### Load the data"
   ]
  },
  {
   "cell_type": "code",
   "execution_count": 1,
   "metadata": {},
   "outputs": [],
   "source": [
    "import pickle"
   ]
  },
  {
   "cell_type": "code",
   "execution_count": 2,
   "metadata": {},
   "outputs": [],
   "source": [
    "with open('./twitter_data.pkl', 'rb') as pickled_file:\n",
    "    twitter_data = pickle.load(pickled_file)"
   ]
  },
  {
   "cell_type": "code",
   "execution_count": 3,
   "metadata": {},
   "outputs": [
    {
     "data": {
      "text/plain": [
       "3653"
      ]
     },
     "execution_count": 3,
     "metadata": {},
     "output_type": "execute_result"
    }
   ],
   "source": [
    "len(twitter_data)"
   ]
  },
  {
   "cell_type": "markdown",
   "metadata": {},
   "source": [
    "<b>Result: </b>We have 3653 tweets."
   ]
  },
  {
   "cell_type": "markdown",
   "metadata": {},
   "source": [
    "### Explore the data"
   ]
  },
  {
   "cell_type": "code",
   "execution_count": 6,
   "metadata": {},
   "outputs": [],
   "source": [
    "import pandas as pd"
   ]
  },
  {
   "cell_type": "code",
   "execution_count": 7,
   "metadata": {},
   "outputs": [
    {
     "data": {
      "text/plain": [
       "dict_keys(['retweet_count', 'in_reply_to_status_id', 'favorited', 'id', 'in_reply_to_status_id_str', 'filter_level', 'possibly_sensitive', 'favorite_count', 'in_reply_to_screen_name', 'entities', 'in_reply_to_user_id', 'is_quote_status', 'text', 'created_at', 'truncated', 'id_str', 'coordinates', 'timestamp_ms', 'in_reply_to_user_id_str', 'retweeted_status', 'retweeted', 'contributors', 'user', 'lang', 'source', 'geo', 'place'])"
      ]
     },
     "execution_count": 7,
     "metadata": {},
     "output_type": "execute_result"
    }
   ],
   "source": [
    "#Each tweet is represented by a dictionary with the following fields:\n",
    "twitter_data[0].keys() "
   ]
  },
  {
   "cell_type": "code",
   "execution_count": 8,
   "metadata": {},
   "outputs": [
    {
     "data": {
      "text/plain": [
       "{'contributors': None,\n",
       " 'coordinates': None,\n",
       " 'created_at': 'Wed May 04 14:57:24 +0000 2016',\n",
       " 'entities': {'hashtags': [{'indices': [54, 61], 'text': 'Python'},\n",
       "   {'indices': [64, 71], 'text': 'ArcGis'}],\n",
       "  'symbols': [],\n",
       "  'urls': [{'display_url': 'geospatialtraininges.com/2016/04/24/int…',\n",
       "    'expanded_url': 'http://geospatialtraininges.com/2016/04/24/interpolacion-datos-meteorologicos-python-arcgis/',\n",
       "    'indices': [72, 95],\n",
       "    'url': 'https://t.co/L38lFalyDw'}],\n",
       "  'user_mentions': [{'id': 1135342201,\n",
       "    'id_str': '1135342201',\n",
       "    'indices': [3, 13],\n",
       "    'name': 'Nosolosig',\n",
       "    'screen_name': 'nosolosig'},\n",
       "   {'id': 1126242102,\n",
       "    'id_str': '1126242102',\n",
       "    'indices': [100, 114],\n",
       "    'name': 'GisTraininges',\n",
       "    'screen_name': 'Gistraininges'}]},\n",
       " 'favorite_count': 0,\n",
       " 'favorited': False,\n",
       " 'filter_level': 'low',\n",
       " 'geo': None,\n",
       " 'id': 727874777088557056,\n",
       " 'id_str': '727874777088557056',\n",
       " 'in_reply_to_screen_name': None,\n",
       " 'in_reply_to_status_id': None,\n",
       " 'in_reply_to_status_id_str': None,\n",
       " 'in_reply_to_user_id': None,\n",
       " 'in_reply_to_user_id_str': None,\n",
       " 'is_quote_status': False,\n",
       " 'lang': 'es',\n",
       " 'place': None,\n",
       " 'possibly_sensitive': False,\n",
       " 'retweet_count': 0,\n",
       " 'retweeted': False,\n",
       " 'retweeted_status': {'contributors': None,\n",
       "  'coordinates': None,\n",
       "  'created_at': 'Wed May 04 14:02:19 +0000 2016',\n",
       "  'entities': {'hashtags': [{'indices': [39, 46], 'text': 'Python'},\n",
       "    {'indices': [49, 56], 'text': 'ArcGis'}],\n",
       "   'symbols': [],\n",
       "   'urls': [{'display_url': 'geospatialtraininges.com/2016/04/24/int…',\n",
       "     'expanded_url': 'http://geospatialtraininges.com/2016/04/24/interpolacion-datos-meteorologicos-python-arcgis/',\n",
       "     'indices': [57, 80],\n",
       "     'url': 'https://t.co/L38lFalyDw'}],\n",
       "   'user_mentions': [{'id': 1126242102,\n",
       "     'id_str': '1126242102',\n",
       "     'indices': [85, 99],\n",
       "     'name': 'GisTraininges',\n",
       "     'screen_name': 'Gistraininges'}]},\n",
       "  'favorite_count': 3,\n",
       "  'favorited': False,\n",
       "  'filter_level': 'low',\n",
       "  'geo': None,\n",
       "  'id': 727860914075140096,\n",
       "  'id_str': '727860914075140096',\n",
       "  'in_reply_to_screen_name': None,\n",
       "  'in_reply_to_status_id': None,\n",
       "  'in_reply_to_status_id_str': None,\n",
       "  'in_reply_to_user_id': None,\n",
       "  'in_reply_to_user_id_str': None,\n",
       "  'is_quote_status': False,\n",
       "  'lang': 'es',\n",
       "  'place': None,\n",
       "  'possibly_sensitive': False,\n",
       "  'retweet_count': 3,\n",
       "  'retweeted': False,\n",
       "  'source': '<a href=\"https://about.twitter.com/products/tweetdeck\" rel=\"nofollow\">TweetDeck</a>',\n",
       "  'text': 'Interpolación de datos meteorológicos: #Python y #ArcGis https://t.co/L38lFalyDw por @Gistraininges',\n",
       "  'truncated': False,\n",
       "  'user': {'contributors_enabled': False,\n",
       "   'created_at': 'Wed Jan 30 22:10:24 +0000 2013',\n",
       "   'default_profile': False,\n",
       "   'default_profile_image': False,\n",
       "   'description': 'Compartiendo información sobre Tecnologías de la Información Geográfica #TIG',\n",
       "   'favourites_count': 1136,\n",
       "   'follow_request_sent': None,\n",
       "   'followers_count': 5349,\n",
       "   'following': None,\n",
       "   'friends_count': 2149,\n",
       "   'geo_enabled': True,\n",
       "   'id': 1135342201,\n",
       "   'id_str': '1135342201',\n",
       "   'is_translator': False,\n",
       "   'lang': 'es',\n",
       "   'listed_count': 182,\n",
       "   'location': 'Madrid, Comunidad de Madrid',\n",
       "   'name': 'Nosolosig',\n",
       "   'notifications': None,\n",
       "   'profile_background_color': 'EDECE9',\n",
       "   'profile_background_image_url': 'http://pbs.twimg.com/profile_background_images/451761494749745152/GaRx5oLn.jpeg',\n",
       "   'profile_background_image_url_https': 'https://pbs.twimg.com/profile_background_images/451761494749745152/GaRx5oLn.jpeg',\n",
       "   'profile_background_tile': False,\n",
       "   'profile_banner_url': 'https://pbs.twimg.com/profile_banners/1135342201/1456246799',\n",
       "   'profile_image_url': 'http://pbs.twimg.com/profile_images/3191986589/d2cbf96c76038e4fe1aa402431ed6bec_normal.jpeg',\n",
       "   'profile_image_url_https': 'https://pbs.twimg.com/profile_images/3191986589/d2cbf96c76038e4fe1aa402431ed6bec_normal.jpeg',\n",
       "   'profile_link_color': '2662ED',\n",
       "   'profile_sidebar_border_color': '000000',\n",
       "   'profile_sidebar_fill_color': 'FFF7CC',\n",
       "   'profile_text_color': '0C3E53',\n",
       "   'profile_use_background_image': True,\n",
       "   'protected': False,\n",
       "   'screen_name': 'nosolosig',\n",
       "   'statuses_count': 6437,\n",
       "   'time_zone': 'Madrid',\n",
       "   'url': 'http://www.nosolosig.com',\n",
       "   'utc_offset': 7200,\n",
       "   'verified': False}},\n",
       " 'source': '<a href=\"http://twitter.com\" rel=\"nofollow\">Twitter Web Client</a>',\n",
       " 'text': 'RT @nosolosig: Interpolación de datos meteorológicos: #Python y #ArcGis https://t.co/L38lFalyDw por @Gistraininges',\n",
       " 'timestamp_ms': '1462373844774',\n",
       " 'truncated': False,\n",
       " 'user': {'contributors_enabled': False,\n",
       "  'created_at': 'Tue Sep 17 11:11:18 +0000 2013',\n",
       "  'default_profile': False,\n",
       "  'default_profile_image': False,\n",
       "  'description': 'Red Temática Nacional FUEGORED “Efectos de los Incendios Forestales sobre los Suelos”',\n",
       "  'favourites_count': 108,\n",
       "  'follow_request_sent': None,\n",
       "  'followers_count': 296,\n",
       "  'following': None,\n",
       "  'friends_count': 127,\n",
       "  'geo_enabled': False,\n",
       "  'id': 1875073158,\n",
       "  'id_str': '1875073158',\n",
       "  'is_translator': False,\n",
       "  'lang': 'es',\n",
       "  'listed_count': 9,\n",
       "  'location': None,\n",
       "  'name': 'FUEGORED',\n",
       "  'notifications': None,\n",
       "  'profile_background_color': 'C0DEED',\n",
       "  'profile_background_image_url': 'http://pbs.twimg.com/profile_background_images/378800000076363273/489afe91d1752607e2cdea348ae4e7b8.jpeg',\n",
       "  'profile_background_image_url_https': 'https://pbs.twimg.com/profile_background_images/378800000076363273/489afe91d1752607e2cdea348ae4e7b8.jpeg',\n",
       "  'profile_background_tile': False,\n",
       "  'profile_image_url': 'http://pbs.twimg.com/profile_images/378800000595544713/a16216976211ac8e37eb7d30f7db91c5_normal.jpeg',\n",
       "  'profile_image_url_https': 'https://pbs.twimg.com/profile_images/378800000595544713/a16216976211ac8e37eb7d30f7db91c5_normal.jpeg',\n",
       "  'profile_link_color': '0084B4',\n",
       "  'profile_sidebar_border_color': 'FFFFFF',\n",
       "  'profile_sidebar_fill_color': 'DDEEF6',\n",
       "  'profile_text_color': '333333',\n",
       "  'profile_use_background_image': True,\n",
       "  'protected': False,\n",
       "  'screen_name': 'Fuego_RED',\n",
       "  'statuses_count': 737,\n",
       "  'time_zone': None,\n",
       "  'url': 'http://fuegored.weebly.com/',\n",
       "  'utc_offset': None,\n",
       "  'verified': False}}"
      ]
     },
     "execution_count": 8,
     "metadata": {},
     "output_type": "execute_result"
    }
   ],
   "source": [
    "# Look at first tweet\n",
    "twitter_data[0]"
   ]
  },
  {
   "cell_type": "code",
   "execution_count": 14,
   "metadata": {},
   "outputs": [
    {
     "data": {
      "text/plain": [
       "'RT @nosolosig: Interpolación de datos meteorológicos: #Python y #ArcGis https://t.co/L38lFalyDw por @Gistraininges'"
      ]
     },
     "execution_count": 14,
     "metadata": {},
     "output_type": "execute_result"
    }
   ],
   "source": [
    "# Look at specific attributes\n",
    "# Here at the text of the first tweet\n",
    "twitter_data[0]['text']"
   ]
  },
  {
   "cell_type": "code",
   "execution_count": 15,
   "metadata": {},
   "outputs": [],
   "source": [
    "#Extracting the text from the tweets\n",
    "tweets_text = [tweet['text'] for tweet in twitter_data]"
   ]
  },
  {
   "cell_type": "code",
   "execution_count": 17,
   "metadata": {},
   "outputs": [
    {
     "data": {
      "text/plain": [
       "['RT @nosolosig: Interpolación de datos meteorológicos: #Python y #ArcGis https://t.co/L38lFalyDw por @Gistraininges',\n",
       " '@cityZenflagNews MyPOV: #QoTD #datascience is ask good questions.',\n",
       " 'Free online learning- Python for data science  https://t.co/sbopcNdW5j',\n",
       " 'RT @gugod: I never realized Python devs are that fancy https://t.co/0nlgwhCzA0',\n",
       " 'New #internship opening at #Work4 in #SanFrancisco! Python #Developer #Intern https://t.co/gl5owKOD3O #Paris https://t.co/w7IqYAj9Ql',\n",
       " 'RT @JobHero_io: #C++ #Python @mixpanel is seeking a Machine Learning Engineer to join their team in SF &gt;&gt; https://t.co/kg9EdUTJQg https://t…',\n",
       " 'drunk C++, 4am Python, unknowability',\n",
       " 'Python REST API Framework https://t.co/U3mvHsGT20 #webdesign',\n",
       " 'Blender Game Engine et Gamekit jeu Force Cube sans script python https://t.co/0dRek2OMUW via @YouTube',\n",
       " 'RT @JobHero_io: #Python #AngularJS @bastillenet is seeking a Full Stack UI Engineer to join their team &gt;&gt; https://t.co/bQMuw0OFzs https://t…']"
      ]
     },
     "execution_count": 17,
     "metadata": {},
     "output_type": "execute_result"
    }
   ],
   "source": [
    "# Look at first 10 texts from the tweet\n",
    "tweets_text[:10]"
   ]
  },
  {
   "cell_type": "code",
   "execution_count": 18,
   "metadata": {},
   "outputs": [],
   "source": [
    "# Look on the number of characters in each tweets\n",
    "tweet_length = [len(text) for text in tweets_text]"
   ]
  },
  {
   "cell_type": "code",
   "execution_count": 19,
   "metadata": {},
   "outputs": [
    {
     "data": {
      "text/plain": [
       "[114, 65, 70, 78, 132, 146, 36, 60, 101, 146]"
      ]
     },
     "execution_count": 19,
     "metadata": {},
     "output_type": "execute_result"
    }
   ],
   "source": [
    "# Look at top 10 tweets length\n",
    "tweet_length[:10]"
   ]
  },
  {
   "cell_type": "code",
   "execution_count": 57,
   "metadata": {},
   "outputs": [
    {
     "name": "stdout",
     "output_type": "stream",
     "text": [
      "maximum no. of characters in a tweet:  152\n",
      "minimum no. of characters in a tweet:  6\n",
      "\n",
      "\n",
      "Let's look more about the characters:\n"
     ]
    },
    {
     "data": {
      "text/plain": [
       "count    3653.000000\n",
       "mean      112.016151\n",
       "std        31.293920\n",
       "min         6.000000\n",
       "25%        92.000000\n",
       "50%       123.000000\n",
       "75%       139.000000\n",
       "max       152.000000\n",
       "dtype: float64"
      ]
     },
     "execution_count": 57,
     "metadata": {},
     "output_type": "execute_result"
    }
   ],
   "source": [
    "tweet_lengths = pd.Series(tweet_length)\n",
    "\n",
    "print(\"maximum no. of characters in a tweet: \",tweet_lengths.max())\n",
    "print(\"minimum no. of characters in a tweet: \",tweet_lengths.min())\n",
    "print('\\n')\n",
    "print(\"Let's look more about the characters:\")\n",
    "tweet_lengths.describe()"
   ]
  },
  {
   "cell_type": "code",
   "execution_count": 58,
   "metadata": {},
   "outputs": [
    {
     "data": {
      "text/plain": [
       "<matplotlib.axes._subplots.AxesSubplot at 0x1913d035f60>"
      ]
     },
     "execution_count": 58,
     "metadata": {},
     "output_type": "execute_result"
    },
    {
     "data": {
      "image/png": "[encoded data removed]",
      "text/plain": [
       "<matplotlib.figure.Figure at 0x1913d1fe748>"
      ]
     },
     "metadata": {},
     "output_type": "display_data"
    }
   ],
   "source": [
    "# Look at graphical representation\n",
    "import matplotlib.pyplot as plt\n",
    "%matplotlib inline\n",
    "\n",
    "# Use new pretty style of plots\n",
    "plt.style.use('ggplot')\n",
    "\n",
    "# label the chart\n",
    "plt.ylabel('frequency')\n",
    "plt.xlabel('number of charecters in tweet')\n",
    "plt.title('Frequency of characters in tweets')\n",
    "\n",
    "# plot as histogram\n",
    "tweet_lengths.hist(bins=20)\n"
   ]
  },
  {
   "cell_type": "markdown",
   "metadata": {},
   "source": [
    "### Words counts"
   ]
  },
  {
   "cell_type": "markdown",
   "metadata": {},
   "source": [
    "We are going to use a technque called word vectors, to find out which words are most commonly used together with which other words."
   ]
  },
  {
   "cell_type": "code",
   "execution_count": 59,
   "metadata": {},
   "outputs": [
    {
     "name": "stdout",
     "output_type": "stream",
     "text": [
      "12683 unique words\n"
     ]
    }
   ],
   "source": [
    "from collections import defaultdict\n",
    "\n",
    "word_count = defaultdict(int)\n",
    "\n",
    "for tweet in tweets_text:\n",
    "    for word in tweet.split():\n",
    "        word_count[word] +=1\n",
    "\n",
    "# Count the words used in our tweets\n",
    "print('{} unique words'.format(len(word_count)))"
   ]
  },
  {
   "cell_type": "code",
   "execution_count": 62,
   "metadata": {},
   "outputs": [
    {
     "name": "stdout",
     "output_type": "stream",
     "text": [
      "Most Common words used in tweets: \n"
     ]
    },
    {
     "data": {
      "text/plain": [
       "[('RT', 1704),\n",
       " ('Python', 1030),\n",
       " ('to', 758),\n",
       " ('#DataScience', 675),\n",
       " ('in', 595),\n",
       " ('#datascience', 579),\n",
       " ('for', 508),\n",
       " ('a', 486),\n",
       " ('-', 471),\n",
       " ('the', 463)]"
      ]
     },
     "execution_count": 62,
     "metadata": {},
     "output_type": "execute_result"
    }
   ],
   "source": [
    "from collections import Counter\n",
    "\n",
    "words = Counter(word_count)\n",
    "# Look at most common words\n",
    "print('Most Common words used in tweets: ')\n",
    "words.most_common(10)"
   ]
  },
  {
   "cell_type": "markdown",
   "metadata": {},
   "source": [
    "#### Callouts used in the tweets"
   ]
  },
  {
   "cell_type": "code",
   "execution_count": 113,
   "metadata": {},
   "outputs": [
    {
     "data": {
      "text/plain": [
       "['@nosolosig',\n",
       " '@Gistraininges',\n",
       " '@cityZenflagNews',\n",
       " '@gugod',\n",
       " '@JobHero_io',\n",
       " '@mixpanel',\n",
       " '@YouTube',\n",
       " '@JobHero_io',\n",
       " '@bastillenet',\n",
       " '@TunguzReview']"
      ]
     },
     "execution_count": 113,
     "metadata": {},
     "output_type": "execute_result"
    }
   ],
   "source": [
    "tweets_callouts = []\n",
    "for text in tweets_text:\n",
    "    tweets_callouts.extend(re.findall(r'@[a-zA-z0-9_]+', text))\n",
    "tweets_callouts[:10]"
   ]
  },
  {
   "cell_type": "code",
   "execution_count": 115,
   "metadata": {},
   "outputs": [
    {
     "data": {
      "text/plain": [
       "@KirkDBorne        151\n",
       "@kdnuggets          96\n",
       "@microsoft          55\n",
       "@ClassicPict        51\n",
       "@YouTube            45\n",
       "@yousanam75         37\n",
       "@rohit_ghai         36\n",
       "@analyticbridge     34\n",
       "@EricIdle           34\n",
       "@Rbloggers          24\n",
       "dtype: int64"
      ]
     },
     "execution_count": 115,
     "metadata": {},
     "output_type": "execute_result"
    }
   ],
   "source": [
    "# Most commomly used callouts\n",
    "(pd.Series(tweets_callouts)).value_counts().head(10)"
   ]
  },
  {
   "cell_type": "markdown",
   "metadata": {},
   "source": [
    "#### Hashtags used in tweets"
   ]
  },
  {
   "cell_type": "code",
   "execution_count": 119,
   "metadata": {},
   "outputs": [
    {
     "data": {
      "text/plain": [
       "['#Python',\n",
       " '#ArcGis',\n",
       " '#QoTD',\n",
       " '#datascience',\n",
       " '#internship',\n",
       " '#Work4',\n",
       " '#SanFrancisco',\n",
       " '#Developer',\n",
       " '#Intern',\n",
       " '#Paris']"
      ]
     },
     "execution_count": 119,
     "metadata": {},
     "output_type": "execute_result"
    }
   ],
   "source": [
    "tweets_hashtags = []\n",
    "for text in tweets_text:\n",
    "    tweets_hashtags.extend(re.findall(r'#[a-zA-Z0-9_]+', text))\n",
    "tweets_hashtags[:10]"
   ]
  },
  {
   "cell_type": "code",
   "execution_count": 122,
   "metadata": {},
   "outputs": [
    {
     "data": {
      "text/plain": [
       "#DataScience        717\n",
       "#datascience        606\n",
       "#BigData            459\n",
       "#Python             322\n",
       "#python             257\n",
       "#bigdata            173\n",
       "#MachineLearning    139\n",
       "#Analytics          126\n",
       "#jobs                89\n",
       "#data                75\n",
       "dtype: int64"
      ]
     },
     "execution_count": 122,
     "metadata": {},
     "output_type": "execute_result"
    }
   ],
   "source": [
    "# Most common hashtags used in tweets\n",
    "most_common_hashtags = (pd.Series(tweets_hashtags)).value_counts().head(10)\n",
    "most_common_hashtags"
   ]
  }
 ],
 "metadata": {
  "kernelspec": {
   "display_name": "Python 3",
   "language": "python",
   "name": "python3"
  },
  "language_info": {
   "codemirror_mode": {
    "name": "ipython",
    "version": 3
   },
   "file_extension": ".py",
   "mimetype": "text/x-python",
   "name": "python",
   "nbconvert_exporter": "python",
   "pygments_lexer": "ipython3",
   "version": "3.6.3"
  }
 },
 "nbformat": 4,
 "nbformat_minor": 2
}
